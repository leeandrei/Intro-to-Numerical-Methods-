{
  "nbformat": 4,
  "nbformat_minor": 0,
  "metadata": {
    "colab": {
      "name": "Matrix Algebra.ipynb",
      "provenance": [],
      "authorship_tag": "ABX9TyNS/7arzvemrERZjGELgzH+",
      "include_colab_link": true
    },
    "kernelspec": {
      "name": "python3",
      "display_name": "Python 3"
    },
    "language_info": {
      "name": "python"
    }
  },
  "cells": [
    {
      "cell_type": "markdown",
      "metadata": {
        "id": "view-in-github",
        "colab_type": "text"
      },
      "source": [
        "<a href=\"https://colab.research.google.com/github/leeandrei/Numerical-Methods-/blob/main/Matrix_Algebra.ipynb\" target=\"_parent\"><img src=\"https://colab.research.google.com/assets/colab-badge.svg\" alt=\"Open In Colab\"/></a>"
      ]
    },
    {
      "cell_type": "markdown",
      "metadata": {
        "id": "jPB-f_CYUHAq"
      },
      "source": [
        "##Matrix and its Operations\n"
      ]
    },
    {
      "cell_type": "code",
      "metadata": {
        "id": "FYDqPvYoSFY8"
      },
      "source": [
        "import numpy as np"
      ],
      "execution_count": 16,
      "outputs": []
    },
    {
      "cell_type": "code",
      "metadata": {
        "colab": {
          "base_uri": "https://localhost:8080/"
        },
        "id": "EoREZPGAUH2a",
        "outputId": "d5b06962-e627-41b7-b5b6-2666aefc1845"
      },
      "source": [
        "a = np.array([1,2,3]) #This is a 1x3 Array \n",
        "#a[0] = 4\n",
        "print(a)"
      ],
      "execution_count": 32,
      "outputs": [
        {
          "output_type": "stream",
          "name": "stdout",
          "text": [
            "[4 2 3]\n"
          ]
        }
      ]
    },
    {
      "cell_type": "code",
      "metadata": {
        "colab": {
          "base_uri": "https://localhost:8080/"
        },
        "id": "tuhI58FrU4SS",
        "outputId": "f8130a1e-eb71-45a9-a6dd-5eb60dbbb873"
      },
      "source": [
        "b = np.array([[1,2,3],[4,5,6]]) #This is an example of 2x3 matrix \n",
        "\n",
        "\n",
        "print(b.shape)\n",
        "#b[0] = 7\n",
        "#b[0,0] = 7\n",
        "print(b)"
      ],
      "execution_count": 31,
      "outputs": [
        {
          "output_type": "stream",
          "name": "stdout",
          "text": [
            "(2, 3)\n",
            "[[7 2 3]\n",
            " [4 5 6]]\n"
          ]
        }
      ]
    },
    {
      "cell_type": "code",
      "metadata": {
        "colab": {
          "base_uri": "https://localhost:8080/"
        },
        "id": "DhY6iZRiXO-h",
        "outputId": "1c0d1fb2-9eeb-4703-e861-78286771a75f"
      },
      "source": [
        "c = np.array([[1,2,3],[4,5,6],[7,8,9]]) #This is an example of square matrix \n",
        "\n",
        "print(c)"
      ],
      "execution_count": 37,
      "outputs": [
        {
          "output_type": "stream",
          "name": "stdout",
          "text": [
            "[[1 2 3]\n",
            " [4 5 6]\n",
            " [7 8 9]]\n"
          ]
        }
      ]
    },
    {
      "cell_type": "code",
      "metadata": {
        "colab": {
          "base_uri": "https://localhost:8080/"
        },
        "id": "XKz0Xj-MXuMJ",
        "outputId": "eeb943b3-1162-48f4-f8fa-ef674d2479e6"
      },
      "source": [
        "d = np.full((2,2),4)\n",
        "\n",
        "print(d)"
      ],
      "execution_count": 38,
      "outputs": [
        {
          "output_type": "stream",
          "name": "stdout",
          "text": [
            "[[4 4]\n",
            " [4 4]]\n"
          ]
        }
      ]
    },
    {
      "cell_type": "code",
      "metadata": {
        "colab": {
          "base_uri": "https://localhost:8080/"
        },
        "id": "_Whsy_VKYHtx",
        "outputId": "5f48e312-4d09-4ad5-c5d0-328039cb282a"
      },
      "source": [
        "e = np.eye(2)\n",
        "print(e)"
      ],
      "execution_count": 39,
      "outputs": [
        {
          "output_type": "stream",
          "name": "stdout",
          "text": [
            "[[1. 0.]\n",
            " [0. 1.]]\n"
          ]
        }
      ]
    },
    {
      "cell_type": "code",
      "metadata": {
        "colab": {
          "base_uri": "https://localhost:8080/"
        },
        "id": "E_uj6Hh6YnJS",
        "outputId": "877e1e74-51e3-4aed-f57f-92629906ef1b"
      },
      "source": [
        "e = np.diagonal([[1,2,3],[4,5,6],[7,8,9]])\n",
        "\n",
        "print(e)"
      ],
      "execution_count": 47,
      "outputs": [
        {
          "output_type": "stream",
          "name": "stdout",
          "text": [
            "[1 5 9]\n"
          ]
        }
      ]
    },
    {
      "cell_type": "code",
      "metadata": {
        "colab": {
          "base_uri": "https://localhost:8080/"
        },
        "id": "o5yWjGWVaBsy",
        "outputId": "c868378f-288a-4490-a5df-559936f4c9a0"
      },
      "source": [
        "f = np.empty((0,10))\n",
        "\n",
        "print(f)"
      ],
      "execution_count": 49,
      "outputs": [
        {
          "output_type": "stream",
          "name": "stdout",
          "text": [
            "[]\n"
          ]
        }
      ]
    },
    {
      "cell_type": "code",
      "metadata": {
        "colab": {
          "base_uri": "https://localhost:8080/"
        },
        "id": "qg0gkFlcaH7o",
        "outputId": "365f7259-f9d2-4c14-a922-2d9530fa1d29"
      },
      "source": [
        "g = np.zeros((2,2))\n",
        "\n",
        "print(g)"
      ],
      "execution_count": 50,
      "outputs": [
        {
          "output_type": "stream",
          "name": "stdout",
          "text": [
            "[[0. 0.]\n",
            " [0. 0.]]\n"
          ]
        }
      ]
    },
    {
      "cell_type": "code",
      "metadata": {
        "colab": {
          "base_uri": "https://localhost:8080/"
        },
        "id": "Xakp3NrTaTVx",
        "outputId": "5b91ced9-474e-4150-a32d-fc1a6e5169a8"
      },
      "source": [
        "e = np.eye(2)\n",
        "g = np.zeros((2,2))\n",
        "\n",
        "print(e)\n",
        "print(g)\n",
        "\n",
        "print(e+g) #This is the code to get the summation of matrices e and g \n",
        "print(e-g) #This is the code to get the difference of matrices e and g \n",
        "print(g-e)"
      ],
      "execution_count": 61,
      "outputs": [
        {
          "output_type": "stream",
          "name": "stdout",
          "text": [
            "[[1. 0.]\n",
            " [0. 1.]]\n",
            "[[0. 0.]\n",
            " [0. 0.]]\n",
            "[[1. 0.]\n",
            " [0. 1.]]\n",
            "[[1. 0.]\n",
            " [0. 1.]]\n",
            "[[-1.  0.]\n",
            " [ 0. -1.]]\n"
          ]
        }
      ]
    }
  ]
}