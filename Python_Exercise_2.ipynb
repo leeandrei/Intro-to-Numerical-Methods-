{
  "nbformat": 4,
  "nbformat_minor": 0,
  "metadata": {
    "colab": {
      "name": "Python Exercise 2.ipynb",
      "provenance": [],
      "authorship_tag": "ABX9TyPTAZhdYbX7rGFtOjVzzvEb",
      "include_colab_link": true
    },
    "kernelspec": {
      "name": "python3",
      "display_name": "Python 3"
    },
    "language_info": {
      "name": "python"
    }
  },
  "cells": [
    {
      "cell_type": "markdown",
      "metadata": {
        "id": "view-in-github",
        "colab_type": "text"
      },
      "source": [
        "<a href=\"https://colab.research.google.com/github/leeandrei/Numerical-Methods-/blob/main/Python_Exercise_2.ipynb\" target=\"_parent\"><img src=\"https://colab.research.google.com/assets/colab-badge.svg\" alt=\"Open In Colab\"/></a>"
      ]
    },
    {
      "cell_type": "markdown",
      "metadata": {
        "id": "RN4HHm_FauGY"
      },
      "source": [
        "#Matrix And It's Operation"
      ]
    },
    {
      "cell_type": "markdown",
      "metadata": {
        "id": "4ipFH8sCa-ig"
      },
      "source": [
        "##$$A = \\begin{bmatrix} -5 & 0 \\\\4 & 1 \\\\\\end{bmatrix} , B = \\begin{bmatrix} 6 & -3\\\\2 & 3\\\\\\end{bmatrix} $$##"
      ]
    },
    {
      "cell_type": "code",
      "metadata": {
        "id": "6quVmbU8dEko"
      },
      "source": [
        "import numpy as np "
      ],
      "execution_count": 1,
      "outputs": []
    },
    {
      "cell_type": "markdown",
      "metadata": {
        "id": "Jse-d9COc-WA"
      },
      "source": [
        "#####1. sum = A + B "
      ]
    },
    {
      "cell_type": "code",
      "metadata": {
        "colab": {
          "base_uri": "https://localhost:8080/"
        },
        "id": "7ls2zUYPaomU",
        "outputId": "35f7672e-3afc-45c6-d64b-92414e859301"
      },
      "source": [
        "A = np.array([[-5, 0], [4, 1]])\n",
        "B = np.array([[6, -3], [2, 3]])\n",
        "\n",
        "sum = A + B\n",
        "print(sum)"
      ],
      "execution_count": 8,
      "outputs": [
        {
          "output_type": "stream",
          "name": "stdout",
          "text": [
            "[[ 1 -3]\n",
            " [ 6  4]]\n"
          ]
        }
      ]
    },
    {
      "cell_type": "markdown",
      "metadata": {
        "id": "DMdofpMHd1ZY"
      },
      "source": [
        "#####2. difference1 = B - A\n"
      ]
    },
    {
      "cell_type": "code",
      "metadata": {
        "colab": {
          "base_uri": "https://localhost:8080/"
        },
        "id": "rS08ZU_aeBhY",
        "outputId": "df652a00-41e9-41d7-b58f-be0738dda453"
      },
      "source": [
        "difference1 = B -A \n",
        "\n",
        "print(difference1)"
      ],
      "execution_count": 7,
      "outputs": [
        {
          "output_type": "stream",
          "name": "stdout",
          "text": [
            "[[11 -3]\n",
            " [-2  2]]\n"
          ]
        }
      ]
    },
    {
      "cell_type": "markdown",
      "metadata": {
        "id": "-aSKzeaLeHdg"
      },
      "source": [
        "#####3. difference2 = A - B "
      ]
    },
    {
      "cell_type": "code",
      "metadata": {
        "colab": {
          "base_uri": "https://localhost:8080/"
        },
        "id": "_lA9Y5AEeMc3",
        "outputId": "45e36d34-ea4e-424f-da60-3bab93317b0c"
      },
      "source": [
        "difference2 = A - B\n",
        "\n",
        "print(difference2)"
      ],
      "execution_count": 9,
      "outputs": [
        {
          "output_type": "stream",
          "name": "stdout",
          "text": [
            "[[-11   3]\n",
            " [  2  -2]]\n"
          ]
        }
      ]
    }
  ]
}