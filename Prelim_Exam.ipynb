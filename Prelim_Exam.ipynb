{
  "nbformat": 4,
  "nbformat_minor": 0,
  "metadata": {
    "colab": {
      "name": "Prelim Exam.ipynb",
      "provenance": [],
      "authorship_tag": "ABX9TyOpZGsWN8flFlbmYi0tnw6P",
      "include_colab_link": true
    },
    "kernelspec": {
      "name": "python3",
      "display_name": "Python 3"
    },
    "language_info": {
      "name": "python"
    }
  },
  "cells": [
    {
      "cell_type": "markdown",
      "metadata": {
        "id": "view-in-github",
        "colab_type": "text"
      },
      "source": [
        "<a href=\"https://colab.research.google.com/github/leeandrei/Numerical-Methods-/blob/main/Prelim_Exam.ipynb\" target=\"_parent\"><img src=\"https://colab.research.google.com/assets/colab-badge.svg\" alt=\"Open In Colab\"/></a>"
      ]
    },
    {
      "cell_type": "markdown",
      "metadata": {
        "id": "ke_yT_opOIW3"
      },
      "source": [
        "##PRELIM EXAM"
      ]
    },
    {
      "cell_type": "markdown",
      "metadata": {
        "id": "FtcJKz1YOKwu"
      },
      "source": [
        "##$$A = \\begin{bmatrix} 1 & 2 & 3\\\\ 2 & 3 & 3\\\\ 3 & 4 & -2\\\\\\end{bmatrix} $$"
      ]
    },
    {
      "cell_type": "code",
      "metadata": {
        "id": "2kX6EmbZOGhq"
      },
      "source": [
        "import numpy as np "
      ],
      "execution_count": 1,
      "outputs": []
    },
    {
      "cell_type": "code",
      "metadata": {
        "colab": {
          "base_uri": "https://localhost:8080/"
        },
        "id": "oMQBCoOKOOVs",
        "outputId": "1590d7ed-06ea-42ff-e745-29c972ed3c28"
      },
      "source": [
        "A = np.array([[1, 2, 3], [2, 3, 3], [3, 4, -2]])\n",
        "B = np.linalg.det(A)\n",
        "\n",
        "print(B)"
      ],
      "execution_count": 4,
      "outputs": [
        {
          "output_type": "stream",
          "name": "stdout",
          "text": [
            "5.000000000000001\n"
          ]
        }
      ]
    }
  ]
}