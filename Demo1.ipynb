{
  "nbformat": 4,
  "nbformat_minor": 0,
  "metadata": {
    "colab": {
      "name": "Demo1.ipynb",
      "provenance": [],
      "authorship_tag": "ABX9TyNg8+iY7sP2GErJIe5FLweY",
      "include_colab_link": true
    },
    "kernelspec": {
      "name": "python3",
      "display_name": "Python 3"
    },
    "language_info": {
      "name": "python"
    }
  },
  "cells": [
    {
      "cell_type": "markdown",
      "metadata": {
        "id": "view-in-github",
        "colab_type": "text"
      },
      "source": [
        "<a href=\"https://colab.research.google.com/github/leeandrei/Intro-to-Numerical-Methods-/blob/main/Demo1.ipynb\" target=\"_parent\"><img src=\"https://colab.research.google.com/assets/colab-badge.svg\" alt=\"Open In Colab\"/></a>"
      ]
    },
    {
      "cell_type": "markdown",
      "metadata": {
        "id": "DfeAUlAUN9kV"
      },
      "source": [
        "#Introduction to Numerical Methods \n",
        "##Demonstration \n"
      ]
    },
    {
      "cell_type": "code",
      "metadata": {
        "colab": {
          "base_uri": "https://localhost:8080/"
        },
        "id": "1xkYysWINoZ1",
        "outputId": "d670ce23-9cfd-4408-f7ca-c17814fc495e"
      },
      "source": [
        "b = \"Sally\"\n",
        "b = int(4) #This will display a whole number \n",
        "b = \"John\"\n",
        "b = float(4) #This will display a decimal number \n",
        "\n",
        "print(b)"
      ],
      "execution_count": 4,
      "outputs": [
        {
          "output_type": "stream",
          "text": [
            "4.0\n"
          ],
          "name": "stdout"
        }
      ]
    },
    {
      "cell_type": "code",
      "metadata": {
        "colab": {
          "base_uri": "https://localhost:8080/"
        },
        "id": "OtiMO381Pcvb",
        "outputId": "8e8fd3a8-ffda-412c-ca73-f828cd7b2ca3"
      },
      "source": [
        "x = 5\n",
        "y = \"John\"\n",
        "\n",
        "print(type(x))\n",
        "print(type(y))"
      ],
      "execution_count": 5,
      "outputs": [
        {
          "output_type": "stream",
          "text": [
            "<class 'int'>\n",
            "<class 'str'>\n"
          ],
          "name": "stdout"
        }
      ]
    },
    {
      "cell_type": "code",
      "metadata": {
        "colab": {
          "base_uri": "https://localhost:8080/"
        },
        "id": "EdbR3SUUQJZS",
        "outputId": "e8ef4b51-d3ae-4508-a10c-3032a5816e40"
      },
      "source": [
        "b = 'Sally'\n",
        "print(b)"
      ],
      "execution_count": 10,
      "outputs": [
        {
          "output_type": "stream",
          "text": [
            "Sally\n"
          ],
          "name": "stdout"
        }
      ]
    },
    {
      "cell_type": "code",
      "metadata": {
        "colab": {
          "base_uri": "https://localhost:8080/"
        },
        "id": "flNqu0mxQdKB",
        "outputId": "d183ccf9-1e91-4af7-ac4f-7de32eeec806"
      },
      "source": [
        "b = 5\n",
        "B = \"Sally\"\n",
        "\n",
        "print(b,B)\n"
      ],
      "execution_count": 13,
      "outputs": [
        {
          "output_type": "stream",
          "text": [
            "5 Sally\n"
          ],
          "name": "stdout"
        }
      ]
    },
    {
      "cell_type": "code",
      "metadata": {
        "colab": {
          "base_uri": "https://localhost:8080/"
        },
        "id": "nEHU2hBIQsJZ",
        "outputId": "faf76314-3cb4-4060-a748-449aeea705ea"
      },
      "source": [
        "x, y, z = \"one\",\"two\",\"three\"\n",
        "print(x)\n",
        "print(y)\n",
        "print(z)\n",
        "\n",
        "x = y = z = \"four\"\n",
        "print(x,y,z)"
      ],
      "execution_count": 22,
      "outputs": [
        {
          "output_type": "stream",
          "text": [
            "one\n",
            "two\n",
            "three\n",
            "four four four\n"
          ],
          "name": "stdout"
        }
      ]
    },
    {
      "cell_type": "code",
      "metadata": {
        "colab": {
          "base_uri": "https://localhost:8080/"
        },
        "id": "qXNllxGORYup",
        "outputId": "5be913f8-f003-4229-a7b8-33ce281cfb4f"
      },
      "source": [
        "#x = \"enjoying\"\n",
        "#print(\"Python programming is \" + x)\n",
        "\n",
        "x = \"Python programming is \"\n",
        "y = \"enjoying\"\n",
        "z = x + y \n",
        "print(z)"
      ],
      "execution_count": 26,
      "outputs": [
        {
          "output_type": "stream",
          "text": [
            "Python programming is enjoying\n"
          ],
          "name": "stdout"
        }
      ]
    },
    {
      "cell_type": "code",
      "metadata": {
        "colab": {
          "base_uri": "https://localhost:8080/"
        },
        "id": "y6HS2nibTHDQ",
        "outputId": "b2509db7-df45-4b4c-dcc8-71a4be954fdd"
      },
      "source": [
        "x = 5 \n",
        "y = 3\n",
        "sum = x+y\n",
        "#print(x+y)\n",
        "print(sum)"
      ],
      "execution_count": 30,
      "outputs": [
        {
          "output_type": "stream",
          "text": [
            "8\n",
            "8\n"
          ],
          "name": "stdout"
        }
      ]
    },
    {
      "cell_type": "code",
      "metadata": {
        "colab": {
          "base_uri": "https://localhost:8080/"
        },
        "id": "orYQKfYiT8Tg",
        "outputId": "cd5ffd5b-3875-404e-d464-b51e98b8829e"
      },
      "source": [
        "a, b, c = 0, -1, 6\n",
        "c %= 3  #This will display the remainder of 6 divided by 3 \n",
        "c"
      ],
      "execution_count": 36,
      "outputs": [
        {
          "output_type": "execute_result",
          "data": {
            "text/plain": [
              "0"
            ]
          },
          "metadata": {},
          "execution_count": 36
        }
      ]
    },
    {
      "cell_type": "code",
      "metadata": {
        "colab": {
          "base_uri": "https://localhost:8080/"
        },
        "id": "Fp2HLaujVOXH",
        "outputId": "5af4f1c3-94c7-4cb0-a99d-337fc2a41b3e"
      },
      "source": [
        "x = 5\n",
        "y = 3 \n",
        "compare = x > y \n",
        "\n",
        "compare"
      ],
      "execution_count": 39,
      "outputs": [
        {
          "output_type": "execute_result",
          "data": {
            "text/plain": [
              "True"
            ]
          },
          "metadata": {},
          "execution_count": 39
        }
      ]
    },
    {
      "cell_type": "code",
      "metadata": {
        "colab": {
          "base_uri": "https://localhost:8080/"
        },
        "id": "7_8rLyNKVZ22",
        "outputId": "e6999c92-9b28-432f-a0eb-92f2ff3b0916"
      },
      "source": [
        "x = 5\n",
        "y = 3 \n",
        "\n",
        "#x>x and y>y\n",
        "x is not y "
      ],
      "execution_count": 41,
      "outputs": [
        {
          "output_type": "execute_result",
          "data": {
            "text/plain": [
              "True"
            ]
          },
          "metadata": {},
          "execution_count": 41
        }
      ]
    },
    {
      "cell_type": "code",
      "metadata": {
        "colab": {
          "base_uri": "https://localhost:8080/"
        },
        "id": "qTEvDiP_WYm2",
        "outputId": "5970ef9a-c6d1-4a27-ba9b-46afed413f7f"
      },
      "source": [
        "a, b, c = 0, -1, 5 \n",
        "a is c"
      ],
      "execution_count": 43,
      "outputs": [
        {
          "output_type": "execute_result",
          "data": {
            "text/plain": [
              "False"
            ]
          },
          "metadata": {},
          "execution_count": 43
        }
      ]
    },
    {
      "cell_type": "code",
      "metadata": {
        "id": "yf3G57OCWfGW"
      },
      "source": [
        ""
      ],
      "execution_count": null,
      "outputs": []
    }
  ]
}